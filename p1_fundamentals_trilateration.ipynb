{
  "nbformat": 4,
  "nbformat_minor": 0,
  "metadata": {
    "colab": {
      "name": "p1_fundamentals_trilateration.ipynb",
      "provenance": []
    },
    "kernelspec": {
      "name": "python3",
      "display_name": "Python 3"
    },
    "language_info": {
      "name": "python"
    },
    "widgets": {
      "application/vnd.jupyter.widget-state+json": {
        "e42cf3d3c54043a0819791ae5e3411b3": {
          "model_module": "@jupyter-widgets/controls",
          "model_name": "VBoxModel",
          "model_module_version": "1.5.0",
          "state": {
            "_dom_classes": [
              "widget-interact"
            ],
            "_model_module": "@jupyter-widgets/controls",
            "_model_module_version": "1.5.0",
            "_model_name": "VBoxModel",
            "_view_count": null,
            "_view_module": "@jupyter-widgets/controls",
            "_view_module_version": "1.5.0",
            "_view_name": "VBoxView",
            "box_style": "",
            "children": [
              "IPY_MODEL_91a2123990a149a482e9aaa668018bf6",
              "IPY_MODEL_a6b29da1c7e34e49aa15fb6af2047993",
              "IPY_MODEL_9f3bd779474f47fa89e2efaf8c9a745d",
              "IPY_MODEL_1c520d047f4248098ef96c412d061799",
              "IPY_MODEL_ee6d98f4b175438da1bf145913da4ad5"
            ],
            "layout": "IPY_MODEL_b222e6f4799d4f81aaa9eadc6f3329fc"
          }
        },
        "91a2123990a149a482e9aaa668018bf6": {
          "model_module": "@jupyter-widgets/controls",
          "model_name": "IntSliderModel",
          "model_module_version": "1.5.0",
          "state": {
            "_dom_classes": [],
            "_model_module": "@jupyter-widgets/controls",
            "_model_module_version": "1.5.0",
            "_model_name": "IntSliderModel",
            "_view_count": null,
            "_view_module": "@jupyter-widgets/controls",
            "_view_module_version": "1.5.0",
            "_view_name": "IntSliderView",
            "continuous_update": true,
            "description": "x",
            "description_tooltip": null,
            "disabled": false,
            "layout": "IPY_MODEL_20a3b30823ab4f599d2551f3f4d6cddf",
            "max": 12,
            "min": -4,
            "orientation": "horizontal",
            "readout": true,
            "readout_format": "d",
            "step": 1,
            "style": "IPY_MODEL_bc3b5440660443fa8efc30ec0482299c",
            "value": 4
          }
        },
        "a6b29da1c7e34e49aa15fb6af2047993": {
          "model_module": "@jupyter-widgets/controls",
          "model_name": "IntSliderModel",
          "model_module_version": "1.5.0",
          "state": {
            "_dom_classes": [],
            "_model_module": "@jupyter-widgets/controls",
            "_model_module_version": "1.5.0",
            "_model_name": "IntSliderModel",
            "_view_count": null,
            "_view_module": "@jupyter-widgets/controls",
            "_view_module_version": "1.5.0",
            "_view_name": "IntSliderView",
            "continuous_update": true,
            "description": "y",
            "description_tooltip": null,
            "disabled": false,
            "layout": "IPY_MODEL_a2a26fc5a9d54709ae8104a91ab4bdca",
            "max": 12,
            "min": -4,
            "orientation": "horizontal",
            "readout": true,
            "readout_format": "d",
            "step": 1,
            "style": "IPY_MODEL_72bced7579154bc6ab65bb7c02cdccd7",
            "value": 4
          }
        },
        "9f3bd779474f47fa89e2efaf8c9a745d": {
          "model_module": "@jupyter-widgets/controls",
          "model_name": "CheckboxModel",
          "model_module_version": "1.5.0",
          "state": {
            "_dom_classes": [],
            "_model_module": "@jupyter-widgets/controls",
            "_model_module_version": "1.5.0",
            "_model_name": "CheckboxModel",
            "_view_count": null,
            "_view_module": "@jupyter-widgets/controls",
            "_view_module_version": "1.5.0",
            "_view_name": "CheckboxView",
            "description": "activate_noise",
            "description_tooltip": null,
            "disabled": false,
            "indent": true,
            "layout": "IPY_MODEL_964c6714d39f41af85f3145bb96252bd",
            "style": "IPY_MODEL_ce26ea716b084ff48649782f1ee0e919",
            "value": false
          }
        },
        "1c520d047f4248098ef96c412d061799": {
          "model_module": "@jupyter-widgets/controls",
          "model_name": "IntSliderModel",
          "model_module_version": "1.5.0",
          "state": {
            "_dom_classes": [],
            "_model_module": "@jupyter-widgets/controls",
            "_model_module_version": "1.5.0",
            "_model_name": "IntSliderModel",
            "_view_count": null,
            "_view_module": "@jupyter-widgets/controls",
            "_view_module_version": "1.5.0",
            "_view_name": "IntSliderView",
            "continuous_update": true,
            "description": "snr_db",
            "description_tooltip": null,
            "disabled": false,
            "layout": "IPY_MODEL_8032b6b6b3ec4d8791500ea6fd511873",
            "max": 30,
            "min": 1,
            "orientation": "horizontal",
            "readout": true,
            "readout_format": "d",
            "step": 1,
            "style": "IPY_MODEL_5d4cd2702fb44defb3fdb7c8328674c0",
            "value": 15
          }
        },
        "ee6d98f4b175438da1bf145913da4ad5": {
          "model_module": "@jupyter-widgets/output",
          "model_name": "OutputModel",
          "model_module_version": "1.0.0",
          "state": {
            "_dom_classes": [],
            "_model_module": "@jupyter-widgets/output",
            "_model_module_version": "1.0.0",
            "_model_name": "OutputModel",
            "_view_count": null,
            "_view_module": "@jupyter-widgets/output",
            "_view_module_version": "1.0.0",
            "_view_name": "OutputView",
            "layout": "IPY_MODEL_d03a02eff6e246198266246cc28c8d26",
            "msg_id": "",
            "outputs": [
              {
                "output_type": "display_data",
                "data": {
                  "text/plain": "<Figure size 432x288 with 1 Axes>",
                  "image/png": "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\n"
                },
                "metadata": {
                  "needs_background": "light"
                }
              }
            ]
          }
        },
        "b222e6f4799d4f81aaa9eadc6f3329fc": {
          "model_module": "@jupyter-widgets/base",
          "model_name": "LayoutModel",
          "model_module_version": "1.2.0",
          "state": {
            "_model_module": "@jupyter-widgets/base",
            "_model_module_version": "1.2.0",
            "_model_name": "LayoutModel",
            "_view_count": null,
            "_view_module": "@jupyter-widgets/base",
            "_view_module_version": "1.2.0",
            "_view_name": "LayoutView",
            "align_content": null,
            "align_items": null,
            "align_self": null,
            "border": null,
            "bottom": null,
            "display": null,
            "flex": null,
            "flex_flow": null,
            "grid_area": null,
            "grid_auto_columns": null,
            "grid_auto_flow": null,
            "grid_auto_rows": null,
            "grid_column": null,
            "grid_gap": null,
            "grid_row": null,
            "grid_template_areas": null,
            "grid_template_columns": null,
            "grid_template_rows": null,
            "height": null,
            "justify_content": null,
            "justify_items": null,
            "left": null,
            "margin": null,
            "max_height": null,
            "max_width": null,
            "min_height": null,
            "min_width": null,
            "object_fit": null,
            "object_position": null,
            "order": null,
            "overflow": null,
            "overflow_x": null,
            "overflow_y": null,
            "padding": null,
            "right": null,
            "top": null,
            "visibility": null,
            "width": null
          }
        },
        "20a3b30823ab4f599d2551f3f4d6cddf": {
          "model_module": "@jupyter-widgets/base",
          "model_name": "LayoutModel",
          "model_module_version": "1.2.0",
          "state": {
            "_model_module": "@jupyter-widgets/base",
            "_model_module_version": "1.2.0",
            "_model_name": "LayoutModel",
            "_view_count": null,
            "_view_module": "@jupyter-widgets/base",
            "_view_module_version": "1.2.0",
            "_view_name": "LayoutView",
            "align_content": null,
            "align_items": null,
            "align_self": null,
            "border": null,
            "bottom": null,
            "display": null,
            "flex": null,
            "flex_flow": null,
            "grid_area": null,
            "grid_auto_columns": null,
            "grid_auto_flow": null,
            "grid_auto_rows": null,
            "grid_column": null,
            "grid_gap": null,
            "grid_row": null,
            "grid_template_areas": null,
            "grid_template_columns": null,
            "grid_template_rows": null,
            "height": null,
            "justify_content": null,
            "justify_items": null,
            "left": null,
            "margin": null,
            "max_height": null,
            "max_width": null,
            "min_height": null,
            "min_width": null,
            "object_fit": null,
            "object_position": null,
            "order": null,
            "overflow": null,
            "overflow_x": null,
            "overflow_y": null,
            "padding": null,
            "right": null,
            "top": null,
            "visibility": null,
            "width": null
          }
        },
        "bc3b5440660443fa8efc30ec0482299c": {
          "model_module": "@jupyter-widgets/controls",
          "model_name": "SliderStyleModel",
          "model_module_version": "1.5.0",
          "state": {
            "_model_module": "@jupyter-widgets/controls",
            "_model_module_version": "1.5.0",
            "_model_name": "SliderStyleModel",
            "_view_count": null,
            "_view_module": "@jupyter-widgets/base",
            "_view_module_version": "1.2.0",
            "_view_name": "StyleView",
            "description_width": "",
            "handle_color": null
          }
        },
        "a2a26fc5a9d54709ae8104a91ab4bdca": {
          "model_module": "@jupyter-widgets/base",
          "model_name": "LayoutModel",
          "model_module_version": "1.2.0",
          "state": {
            "_model_module": "@jupyter-widgets/base",
            "_model_module_version": "1.2.0",
            "_model_name": "LayoutModel",
            "_view_count": null,
            "_view_module": "@jupyter-widgets/base",
            "_view_module_version": "1.2.0",
            "_view_name": "LayoutView",
            "align_content": null,
            "align_items": null,
            "align_self": null,
            "border": null,
            "bottom": null,
            "display": null,
            "flex": null,
            "flex_flow": null,
            "grid_area": null,
            "grid_auto_columns": null,
            "grid_auto_flow": null,
            "grid_auto_rows": null,
            "grid_column": null,
            "grid_gap": null,
            "grid_row": null,
            "grid_template_areas": null,
            "grid_template_columns": null,
            "grid_template_rows": null,
            "height": null,
            "justify_content": null,
            "justify_items": null,
            "left": null,
            "margin": null,
            "max_height": null,
            "max_width": null,
            "min_height": null,
            "min_width": null,
            "object_fit": null,
            "object_position": null,
            "order": null,
            "overflow": null,
            "overflow_x": null,
            "overflow_y": null,
            "padding": null,
            "right": null,
            "top": null,
            "visibility": null,
            "width": null
          }
        },
        "72bced7579154bc6ab65bb7c02cdccd7": {
          "model_module": "@jupyter-widgets/controls",
          "model_name": "SliderStyleModel",
          "model_module_version": "1.5.0",
          "state": {
            "_model_module": "@jupyter-widgets/controls",
            "_model_module_version": "1.5.0",
            "_model_name": "SliderStyleModel",
            "_view_count": null,
            "_view_module": "@jupyter-widgets/base",
            "_view_module_version": "1.2.0",
            "_view_name": "StyleView",
            "description_width": "",
            "handle_color": null
          }
        },
        "964c6714d39f41af85f3145bb96252bd": {
          "model_module": "@jupyter-widgets/base",
          "model_name": "LayoutModel",
          "model_module_version": "1.2.0",
          "state": {
            "_model_module": "@jupyter-widgets/base",
            "_model_module_version": "1.2.0",
            "_model_name": "LayoutModel",
            "_view_count": null,
            "_view_module": "@jupyter-widgets/base",
            "_view_module_version": "1.2.0",
            "_view_name": "LayoutView",
            "align_content": null,
            "align_items": null,
            "align_self": null,
            "border": null,
            "bottom": null,
            "display": null,
            "flex": null,
            "flex_flow": null,
            "grid_area": null,
            "grid_auto_columns": null,
            "grid_auto_flow": null,
            "grid_auto_rows": null,
            "grid_column": null,
            "grid_gap": null,
            "grid_row": null,
            "grid_template_areas": null,
            "grid_template_columns": null,
            "grid_template_rows": null,
            "height": null,
            "justify_content": null,
            "justify_items": null,
            "left": null,
            "margin": null,
            "max_height": null,
            "max_width": null,
            "min_height": null,
            "min_width": null,
            "object_fit": null,
            "object_position": null,
            "order": null,
            "overflow": null,
            "overflow_x": null,
            "overflow_y": null,
            "padding": null,
            "right": null,
            "top": null,
            "visibility": null,
            "width": null
          }
        },
        "ce26ea716b084ff48649782f1ee0e919": {
          "model_module": "@jupyter-widgets/controls",
          "model_name": "DescriptionStyleModel",
          "model_module_version": "1.5.0",
          "state": {
            "_model_module": "@jupyter-widgets/controls",
            "_model_module_version": "1.5.0",
            "_model_name": "DescriptionStyleModel",
            "_view_count": null,
            "_view_module": "@jupyter-widgets/base",
            "_view_module_version": "1.2.0",
            "_view_name": "StyleView",
            "description_width": ""
          }
        },
        "8032b6b6b3ec4d8791500ea6fd511873": {
          "model_module": "@jupyter-widgets/base",
          "model_name": "LayoutModel",
          "model_module_version": "1.2.0",
          "state": {
            "_model_module": "@jupyter-widgets/base",
            "_model_module_version": "1.2.0",
            "_model_name": "LayoutModel",
            "_view_count": null,
            "_view_module": "@jupyter-widgets/base",
            "_view_module_version": "1.2.0",
            "_view_name": "LayoutView",
            "align_content": null,
            "align_items": null,
            "align_self": null,
            "border": null,
            "bottom": null,
            "display": null,
            "flex": null,
            "flex_flow": null,
            "grid_area": null,
            "grid_auto_columns": null,
            "grid_auto_flow": null,
            "grid_auto_rows": null,
            "grid_column": null,
            "grid_gap": null,
            "grid_row": null,
            "grid_template_areas": null,
            "grid_template_columns": null,
            "grid_template_rows": null,
            "height": null,
            "justify_content": null,
            "justify_items": null,
            "left": null,
            "margin": null,
            "max_height": null,
            "max_width": null,
            "min_height": null,
            "min_width": null,
            "object_fit": null,
            "object_position": null,
            "order": null,
            "overflow": null,
            "overflow_x": null,
            "overflow_y": null,
            "padding": null,
            "right": null,
            "top": null,
            "visibility": null,
            "width": null
          }
        },
        "5d4cd2702fb44defb3fdb7c8328674c0": {
          "model_module": "@jupyter-widgets/controls",
          "model_name": "SliderStyleModel",
          "model_module_version": "1.5.0",
          "state": {
            "_model_module": "@jupyter-widgets/controls",
            "_model_module_version": "1.5.0",
            "_model_name": "SliderStyleModel",
            "_view_count": null,
            "_view_module": "@jupyter-widgets/base",
            "_view_module_version": "1.2.0",
            "_view_name": "StyleView",
            "description_width": "",
            "handle_color": null
          }
        },
        "d03a02eff6e246198266246cc28c8d26": {
          "model_module": "@jupyter-widgets/base",
          "model_name": "LayoutModel",
          "model_module_version": "1.2.0",
          "state": {
            "_model_module": "@jupyter-widgets/base",
            "_model_module_version": "1.2.0",
            "_model_name": "LayoutModel",
            "_view_count": null,
            "_view_module": "@jupyter-widgets/base",
            "_view_module_version": "1.2.0",
            "_view_name": "LayoutView",
            "align_content": null,
            "align_items": null,
            "align_self": null,
            "border": null,
            "bottom": null,
            "display": null,
            "flex": null,
            "flex_flow": null,
            "grid_area": null,
            "grid_auto_columns": null,
            "grid_auto_flow": null,
            "grid_auto_rows": null,
            "grid_column": null,
            "grid_gap": null,
            "grid_row": null,
            "grid_template_areas": null,
            "grid_template_columns": null,
            "grid_template_rows": null,
            "height": null,
            "justify_content": null,
            "justify_items": null,
            "left": null,
            "margin": null,
            "max_height": null,
            "max_width": null,
            "min_height": null,
            "min_width": null,
            "object_fit": null,
            "object_position": null,
            "order": null,
            "overflow": null,
            "overflow_x": null,
            "overflow_y": null,
            "padding": null,
            "right": null,
            "top": null,
            "visibility": null,
            "width": null
          }
        }
      }
    }
  },
  "cells": [
    {
      "cell_type": "markdown",
      "metadata": {
        "id": "o6baNCZqKbVf"
      },
      "source": [
        "# LOCALIZATION SYSTEMS – Fundamentals and principles of operation (Practice 1)\n",
        "\n",
        "In this practice, we will focus on the **Time-of-Arrival (TOA)** fundamentals and we will analyze how to estimate the position in presence of noise by means of an **iterative algorithm**. For this purpose, we will use Jupyter Notebook, that is based on Python, a popular high-level programming language."
      ]
    },
    {
      "cell_type": "code",
      "metadata": {
        "id": "lO6AQrGoJmBN"
      },
      "source": [
        "# Add some required libraries\n",
        "import math\n",
        "import numpy as np\n",
        "from typing import List, Tuple\n",
        "\n",
        "import matplotlib.pyplot as plt\n",
        "\n",
        "from ipywidgets import interactive, fixed\n",
        "from IPython.display import display"
      ],
      "execution_count": 1,
      "outputs": []
    },
    {
      "cell_type": "markdown",
      "metadata": {
        "id": "9mts_6MKmsTx"
      },
      "source": [
        "Let's define several methods that will be used later in the practice"
      ]
    },
    {
      "cell_type": "code",
      "metadata": {
        "id": "gSOyrTtxXzfB"
      },
      "source": [
        "# ------------------------------------------------------------------------------\n",
        "\n",
        "def generate_noise_sample(signal:float, snr_dB:float) -> float:\n",
        "\n",
        "  # sigma2--square of sigma, here we use: SNR_dB = 10log(d^2/sigma^2)\n",
        "  sigma2 = signal**2 / math.pow(10, snr_dB / 10)\n",
        "  \n",
        "  # We assume additive gaussian noise\n",
        "  noise = np.random.normal() * math.sqrt(sigma2)\n",
        "\n",
        "  return noise\n",
        "\n",
        "# ------------------------------------------------------------------------------\n",
        "\n",
        "def plot_trilateration(nodes, x, y, activate_noise=False, snr_db=None):\n",
        "\n",
        "    figure, axes = plt.subplots() \n",
        "\n",
        "    circles = []\n",
        "    ranges = []\n",
        "\n",
        "    for node in nodes:\n",
        "      # Compute the distance between the node and the receiver\n",
        "      radius_m = math.sqrt((node[0]-x)**2 + (node[1]-y)**2)\n",
        "\n",
        "      # Add noise if set\n",
        "      if activate_noise:\n",
        "        radius_m += generate_noise_sample(radius_m, snr_db)\n",
        "\n",
        "      ranges.append(radius_m)\n",
        "\n",
        "      axes.text(node[0] + 0.5, node[1] + 0.5, f'{radius_m:.2f} m')\n",
        "\n",
        "      circle = plt.Circle(node, radius=radius_m, fill=False) \n",
        "      circles.append(circle)\n",
        "\n",
        "    for circle in circles:\n",
        "      axes.add_artist(circle)\n",
        "\n",
        "    axes.axis([-10, 20, -10, 20])\n",
        "    axes.set_aspect(\"equal\")\n",
        "    axes.plot(node_x_values, node_y_values, 'D', c='red', markersize=10)\n",
        "    axes.plot(x, y, 'p', c='blue', markersize=10)\n",
        "\n",
        "    plt.title( 'Trilateration principle (without noise)' ) \n",
        "    plt.show()\n",
        "\n",
        "    return ranges\n",
        "\n",
        "# ------------------------------------------------------------------------------\n",
        "\n",
        "def compute_range(from_position:List[float], to_position:List[float]) -> float:\n",
        "\n",
        "  return np.linalg.norm(np.subtract(to_position, from_position))\n",
        "\n",
        "# ------------------------------------------------------------------------------\n",
        "\n",
        "def compute_gradient(nodes:List[List[float]], ranges:List[float], rx_position:List[float]) -> List[float]:\n",
        "\n",
        "  n_nodes = len(nodes)\n",
        "\n",
        "  gradient = [0.0, 0.0]\n",
        "\n",
        "  # Compute the vector differences between the given position and the nodes\n",
        "  pos_diff_to_nodes = np.subtract(rx_position, nodes)\n",
        "\n",
        "  # Compute the norm of each vector difference (i.e. computed ranges)\n",
        "  range_aprioris = np.linalg.norm(pos_diff_to_nodes, axis=1)\n",
        "\n",
        "  # Compute the range differences betweem the incoming (observed) and computed\n",
        "  # This amount is also called pre-fit residuals\n",
        "  range_differences = ranges - range_aprioris\n",
        "\n",
        "  # Compute the partials as division of each component by the range to each node\n",
        "  partials = pos_diff_to_nodes / range_aprioris.reshape(n_nodes, 1)\n",
        "\n",
        "  # Compute the gradient components \n",
        "  gradient_components = range_differences.reshape(n_nodes, 1) * partials\n",
        "  gradient_x = gradient_components[:, 0]\n",
        "  gradient_y = gradient_components[:, 1]\n",
        "\n",
        "  return -2.0 * np.array([sum(gradient_x), sum(gradient_y)])\n",
        "\n",
        "# ------------------------------------------------------------------------------\n",
        "\n",
        "def steepest_descent(nodes,\n",
        "                     ranges,\n",
        "                     apriori:Tuple[float, float] = (0.0, 0.0),\n",
        "                     step:float= 0.1, \n",
        "                     num_iterations:int = 30) -> List[Tuple[float, float]]:\n",
        "\n",
        "    estimations = []\n",
        "\n",
        "    x = np.array(apriori)\n",
        "\n",
        "    for i in range(num_iterations):\n",
        "\n",
        "      gradient = compute_gradient(nodes, ranges, x)\n",
        "\n",
        "      x = np.subtract(x, step * gradient)\n",
        "\n",
        "      estimations.append(x)\n",
        "\n",
        "    return np.array(estimations)\n",
        "\n",
        "# ------------------------------------------------------------------------------"
      ],
      "execution_count": 2,
      "outputs": []
    },
    {
      "cell_type": "markdown",
      "metadata": {
        "id": "TnBmIS4VK3uz"
      },
      "source": [
        "## Scenario definition\n",
        "\n",
        "First, we will define the coordinates for the nodes that will be used for the computation of the user location by means of the TOA technique. "
      ]
    },
    {
      "cell_type": "code",
      "metadata": {
        "id": "ixGciI3vKd3_"
      },
      "source": [
        "# Node coordinates (we create a Numpy Array to take advantage of the cool indexing features)\n",
        "\n",
        "nodes = np.array([\n",
        "         [0, 0],\n",
        "         [0, 10],\n",
        "         [10, 0]\n",
        "])\n",
        "\n",
        "# Number of nodes\n",
        "n_nodes = len(nodes)"
      ],
      "execution_count": 3,
      "outputs": []
    },
    {
      "cell_type": "markdown",
      "metadata": {
        "id": "FJCAK85hLTt9"
      },
      "source": [
        "`nodes` can also be considered a matrix that contains the coordinates of all the nodes; as we will see later, this matrix will be very useful in order to obtain the coordinates for each node by means of an iterative loop (like `for`)."
      ]
    },
    {
      "cell_type": "markdown",
      "metadata": {
        "id": "nI5QY4l4LhDZ"
      },
      "source": [
        "**Exercise 1**\n",
        "\n",
        "**Examine the how the matrix `nodes` has been built in order to understand how the coordinates of the nodes are stored (rows and columns). Then, copy and complete the following code in order to plot the coordinates in a figure.**\n",
        "\n"
      ]
    },
    {
      "cell_type": "code",
      "metadata": {
        "colab": {
          "base_uri": "https://localhost:8080/",
          "height": 312
        },
        "id": "2_x50L-ULMiE",
        "outputId": "df252466-cd60-427d-d41d-b0fde84c0916"
      },
      "source": [
        "node_x_values = nodes[:,0]\n",
        "node_y_values = nodes[:,1]\n",
        "\n",
        "plt.title('Position of nodes')\n",
        "plt.xlabel('X coordinate')\n",
        "plt.ylabel('Y coordinate')\n",
        "plt.grid()\n",
        "plt.plot(node_x_values, node_y_values, 'D', c='red', markersize=10)\n"
      ],
      "execution_count": 5,
      "outputs": [
        {
          "output_type": "execute_result",
          "data": {
            "text/plain": [
              "[<matplotlib.lines.Line2D at 0x7fa0544ed0a0>]"
            ]
          },
          "metadata": {},
          "execution_count": 5
        },
        {
          "output_type": "display_data",
          "data": {
            "text/plain": [
              "<Figure size 432x288 with 1 Axes>"
            ],
            "image/png": "[encoded data removed]"
          },
          "metadata": {
            "needs_background": "light"
          }
        }
      ]
    },
    {
      "cell_type": "markdown",
      "metadata": {
        "id": "mgCLJGNuSMwA"
      },
      "source": [
        "The plot function plot expects, respectively, the abscissas and ordinates of the node coordinates in the first two parameters. The third parameter is used to define the style of the dots (`D` indicates diamonds).\n",
        "\n",
        "## Trilateration principle\n",
        "\n",
        "For the first part of the practice, we will assume a **noise-free scenario**. \n",
        "\n",
        "If we have three `nodes` and the corresponding distances (Time-of-arrival) to our receiver, we can compute our position based on trilaterating the 3 circles defined by this distances and the center of the circunference defined by each node. You can practice with the following widget for different receiver positions (move the X and Y sliders). \n",
        "\n",
        "**Note**: For now, leave `snr_db` to 0 (this slider controls the noise of the measurements and will be used later)"
      ]
    },
    {
      "cell_type": "code",
      "metadata": {
        "colab": {
          "base_uri": "https://localhost:8080/",
          "height": 409,
          "referenced_widgets": [
            "e42cf3d3c54043a0819791ae5e3411b3",
            "91a2123990a149a482e9aaa668018bf6",
            "a6b29da1c7e34e49aa15fb6af2047993",
            "9f3bd779474f47fa89e2efaf8c9a745d",
            "1c520d047f4248098ef96c412d061799",
            "ee6d98f4b175438da1bf145913da4ad5",
            "b222e6f4799d4f81aaa9eadc6f3329fc",
            "20a3b30823ab4f599d2551f3f4d6cddf",
            "bc3b5440660443fa8efc30ec0482299c",
            "a2a26fc5a9d54709ae8104a91ab4bdca",
            "72bced7579154bc6ab65bb7c02cdccd7",
            "964c6714d39f41af85f3145bb96252bd",
            "ce26ea716b084ff48649782f1ee0e919",
            "8032b6b6b3ec4d8791500ea6fd511873",
            "5d4cd2702fb44defb3fdb7c8328674c0",
            "d03a02eff6e246198266246cc28c8d26"
          ]
        },
        "id": "Zqn1Rz22Y2FL",
        "outputId": "ae3e37b9-f26f-497f-fc5e-33bc9744f9e8"
      },
      "source": [
        "widget = interactive(plot_trilateration, x=4, y=4, activate_noise=False, snr_db=(1,30), nodes=fixed(nodes))\n",
        "display(widget)"
      ],
      "execution_count": 7,
      "outputs": [
        {
          "output_type": "display_data",
          "data": {
            "text/plain": [
              "interactive(children=(IntSlider(value=4, description='x', max=12, min=-4), IntSlider(value=4, description='y',…"
            ],
            "application/vnd.jupyter.widget-view+json": {
              "version_major": 2,
              "version_minor": 0,
              "model_id": "e42cf3d3c54043a0819791ae5e3411b3"
            }
          },
          "metadata": {}
        }
      ]
    },
    {
      "cell_type": "code",
      "metadata": {
        "colab": {
          "base_uri": "https://localhost:8080/"
        },
        "id": "4F4Mew9Tt_GE",
        "outputId": "23d3b232-8342-4b88-8061-bb773c58e37d"
      },
      "source": [
        "# Retrieve the range values from the interactive widget\n",
        "ranges = widget.result\n",
        "ranges"
      ],
      "execution_count": 8,
      "outputs": [
        {
          "output_type": "execute_result",
          "data": {
            "text/plain": [
              "[5.656854249492381, 7.211102550927978, 7.211102550927978]"
            ]
          },
          "metadata": {},
          "execution_count": 8
        }
      ]
    },
    {
      "cell_type": "code",
      "metadata": {
        "colab": {
          "base_uri": "https://localhost:8080/"
        },
        "id": "6joBkXDeNhNO",
        "outputId": "87c5b291-472c-417e-a8d3-3187c82256e4"
      },
      "source": [
        "# Retrieve the true position from the interactive widget\n",
        "input_values = {c.description:c.value for c in widget.children if hasattr(c, 'description') and c.description in 'xy'}\n",
        "true_position = [input_values['x'], input_values['y']]\n",
        "true_position"
      ],
      "execution_count": 9,
      "outputs": [
        {
          "output_type": "execute_result",
          "data": {
            "text/plain": [
              "[4, 4]"
            ]
          },
          "metadata": {},
          "execution_count": 9
        }
      ]
    },
    {
      "cell_type": "markdown",
      "metadata": {
        "id": "DaJTsatzge8p"
      },
      "source": [
        "**Exercise 3**\n",
        "\n",
        "**Given a known set of coordinates for the user terminal, compute all the ranges to each node by means of the Euclidian distance with respect to the coordinates of the nodes. Verify that the ranges are consistent with the plot above. Compute the Time of arrival (TOA) for these ranges.**"
      ]
    },
    {
      "cell_type": "markdown",
      "metadata": {
        "id": "a-OkjftBhCmD"
      },
      "source": [
        "Next, we will analyze the scenario in presence of noise. Go back to the interactive plot above and play with the `snr_db` slider. The larger the value, the larger the noise and the uncertainty in the position of our receiver will also increase. \n",
        "\n",
        "The 3 circles do not intersect anymore!"
      ]
    },
    {
      "cell_type": "markdown",
      "metadata": {
        "id": "7K9vxWu5zPbj"
      },
      "source": [
        "**Exercise 4**\n",
        "\n",
        "**Analyze this noise function and describe it. Which kind of noise is added?**\n",
        "\n",
        "Tip: in Python try to use the `help(<function>)` command to get the description \n",
        "of a particular method or function\n",
        "\n",
        "\n",
        "\n"
      ]
    },
    {
      "cell_type": "markdown",
      "metadata": {
        "id": "-aKOi01-oF4F"
      },
      "source": [
        "## Finding receiver position with noisy measurements\n",
        "\n",
        "As mentioned before the circles won’t intersect anymore if the measurements are affected by noise. Therefore, we will analyze how to estimate the position from the measured data in these scenarios, in order to obtain a more accurate position. In our case, we will choose the NLS (Non- Linear Least Square) criterion since the function of the position `u` is non-linear. This criterion minimizes the square error, however do not expect this estimation will have some noise and, depending on the geometry of the scenario, it may converge to wrong positions: for instance in the case if 2 circles intersect in 2 positions and the third is between them.\n",
        "\n",
        "In this practice, the solution will be estimated by means of an iterative algorithm called **Steepest descent**, as we will analyze next. The Non-Linear Least Square Steepest Descent algorithm is encapsulated in the function `steepest_descent` in the code above."
      ]
    },
    {
      "cell_type": "code",
      "metadata": {
        "id": "YC-MDyRfgSxH"
      },
      "source": [
        "\n",
        "# Number of iterations\n",
        "num_iterations = 30;\n",
        "\n",
        "# Initial estimation of the position (initial guess also known as apriori)\n",
        "apriori = (5, 2)\n",
        "\n",
        "# Mu step\n",
        "mu_step = 0.1\n",
        "\n",
        "estimations = steepest_descent(nodes, ranges, apriori, step=mu_step, num_iterations=num_iterations)\n",
        "final_estimation = estimations[-1]"
      ],
      "execution_count": null,
      "outputs": []
    },
    {
      "cell_type": "markdown",
      "metadata": {
        "id": "K80GDSg-P715"
      },
      "source": [
        "The following cell plots the final result (the node positions, the true position as specified above as well as the estimated position with the Steepest Descent technique"
      ]
    },
    {
      "cell_type": "code",
      "metadata": {
        "colab": {
          "base_uri": "https://localhost:8080/",
          "height": 283
        },
        "id": "_HpTi1s-qcUQ",
        "outputId": "85af7af4-3a9b-4e0e-abd2-db11dc9dbf48"
      },
      "source": [
        "# All solutions estimated by the SD algorithm\n",
        "plt.plot(estimations[:, 0], estimations[:, 1], '.', color='grey')\n",
        "\n",
        "# Last solution estimated by the SD algorithm\n",
        "plt.plot(final_estimation[0], final_estimation[1], 'D', color='black', markersize=10)\n",
        "\n",
        "# True position\n",
        "plt.plot(true_position[0], true_position[1], 'D', color='blue', markersize=10)\n",
        "\n",
        "# Nodes\n",
        "plt.plot(node_x_values, node_y_values, 'D', c='red', markersize=10)"
      ],
      "execution_count": null,
      "outputs": [
        {
          "output_type": "execute_result",
          "data": {
            "text/plain": [
              "[<matplotlib.lines.Line2D at 0x7f3f3d54a510>]"
            ]
          },
          "metadata": {},
          "execution_count": 113
        },
        {
          "output_type": "display_data",
          "data": {
            "image/png": "[encoded data removed]",
            "text/plain": [
              "<Figure size 432x288 with 1 Axes>"
            ]
          },
          "metadata": {
            "needs_background": "light"
          }
        }
      ]
    },
    {
      "cell_type": "markdown",
      "metadata": {
        "id": "QCk0Imy1SEuf"
      },
      "source": [
        "<strong>\n",
        "Exercise 5\n",
        "\n",
        "Set a *high* SNR value (`snr_db`), between 20dB and 30dB. As you know, SNR stands for Signal-to-Noise Ratio, therefore, what do you think a *high SNR ratio* mean? Run the cells and analyze the results obtained in function of the different parameters:\n",
        "\n",
        "- the initial estimate of the position\n",
        "- the number of iterations\n",
        "- the step size of the algorithm\n",
        "\n",
        "How each of these parameters affect the final estimate obtained? Justify the answers.\n",
        "</strong>"
      ]
    },
    {
      "cell_type": "markdown",
      "metadata": {
        "id": "BffdbNlKSgU7"
      },
      "source": [
        "<strong>\n",
        "Exercise 6\n",
        "\n",
        "Perform the same analysis of the previous exercise but using now a *lower* SNR (below 10dB). Are the intersection between the circles more defined than the previous exercise? How the noise level on the measurements affect the final result? Which parameters need to be changed in order to compensate this higher noise level? Justify the answers.\n",
        "</strong>"
      ]
    },
    {
      "cell_type": "code",
      "metadata": {
        "id": "beyYeddQ3BKr"
      },
      "source": [],
      "execution_count": null,
      "outputs": []
    }
  ]
}